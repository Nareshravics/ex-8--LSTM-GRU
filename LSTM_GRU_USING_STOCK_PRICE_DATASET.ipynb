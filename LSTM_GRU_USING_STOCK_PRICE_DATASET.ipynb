{
  "metadata": {
    "kernelspec": {
      "display_name": "Python 3",
      "language": "python",
      "name": "python3"
    },
    "language_info": {
      "name": "python",
      "version": "3.6.6",
      "mimetype": "text/x-python",
      "codemirror_mode": {
        "name": "ipython",
        "version": 3
      },
      "pygments_lexer": "ipython3",
      "nbconvert_exporter": "python",
      "file_extension": ".py"
    },
    "colab": {
      "provenance": []
    }
  },
  "nbformat_minor": 0,
  "nbformat": 4,
  "cells": [
    {
      "cell_type": "code",
      "source": [
        "!git clone https://github.com/Nareshravics/dataset-.git"
      ],
      "metadata": {
        "colab": {
          "base_uri": "https://localhost:8080/"
        },
        "id": "2ISG9QkPuziN",
        "outputId": "a815b0db-5ad0-4984-9526-75922e6e4d49"
      },
      "execution_count": 2,
      "outputs": [
        {
          "output_type": "stream",
          "name": "stdout",
          "text": [
            "Cloning into 'dataset-'...\n",
            "remote: Enumerating objects: 7, done.\u001b[K\n",
            "remote: Counting objects: 100% (7/7), done.\u001b[K\n",
            "remote: Compressing objects: 100% (7/7), done.\u001b[K\n",
            "remote: Total 7 (delta 1), reused 0 (delta 0), pack-reused 0\u001b[K\n",
            "Unpacking objects: 100% (7/7), done.\n"
          ]
        }
      ]
    },
    {
      "cell_type": "code",
      "source": [
        "# Importing the libraries\n",
        "import numpy as np\n",
        "import matplotlib.pyplot as plt\n",
        "plt.style.use('fivethirtyeight')\n",
        "import pandas as pd\n",
        "from sklearn.preprocessing import MinMaxScaler\n",
        "from keras.models import Sequential\n",
        "from keras.layers import Dense, LSTM, Dropout, GRU, Bidirectional\n",
        "from keras.optimizers import SGD\n",
        "import math\n",
        "from sklearn.metrics import mean_squared_error"
      ],
      "metadata": {
        "_uuid": "da0236e4b36ce514c1fec3fd72f236d1fa259131",
        "collapsed": true,
        "jupyter": {
          "outputs_hidden": true
        },
        "trusted": true,
        "id": "bivFt1JVuJA6"
      },
      "execution_count": 3,
      "outputs": []
    },
    {
      "cell_type": "code",
      "source": [
        "# Some functions to help out with\n",
        "def plot_predictions(test,predicted):\n",
        "    plt.plot(test, color='red',label='Real IBM Stock Price')\n",
        "    plt.plot(predicted, color='blue',label='Predicted IBM Stock Price')\n",
        "    plt.title('IBM Stock Price Prediction')\n",
        "    plt.xlabel('Time')\n",
        "    plt.ylabel('IBM Stock Price')\n",
        "    plt.legend()\n",
        "    plt.show()\n",
        "\n",
        "def return_rmse(test,predicted):\n",
        "    rmse = math.sqrt(mean_squared_error(test, predicted))\n",
        "    print(\"The root mean squared error is {}.\".format(rmse))"
      ],
      "metadata": {
        "_uuid": "b288a8e2caf6196daec9cd2bc4ca78fe50345845",
        "trusted": true,
        "id": "xgQdxcakuJA7"
      },
      "execution_count": 4,
      "outputs": []
    },
    {
      "cell_type": "code",
      "source": [
        "# First, we get the data\n",
        "dataset = pd.read_csv('/content/dataset-/IBM_2006-01-01_to_2018-01-01.csv', index_col='Date', parse_dates=['Date'])\n",
        "dataset.head()"
      ],
      "metadata": {
        "_uuid": "4cf10cf27420eb383b93b15c0895139ea96c0ed3",
        "collapsed": true,
        "jupyter": {
          "outputs_hidden": true
        },
        "trusted": true,
        "colab": {
          "base_uri": "https://localhost:8080/",
          "height": 237
        },
        "id": "xfuRPXJ_uJA7",
        "outputId": "f9180738-4737-406c-8e60-a172be7e2a46"
      },
      "execution_count": 5,
      "outputs": [
        {
          "output_type": "execute_result",
          "data": {
            "text/plain": [
              "             Open   High    Low  Close    Volume Name\n",
              "Date                                                 \n",
              "2006-01-03  82.45  82.55  80.81  82.06  11715200  IBM\n",
              "2006-01-04  82.20  82.50  81.33  81.95   9840600  IBM\n",
              "2006-01-05  81.40  82.90  81.00  82.50   7213500  IBM\n",
              "2006-01-06  83.95  85.03  83.41  84.95   8197400  IBM\n",
              "2006-01-09  84.10  84.25  83.38  83.73   6858200  IBM"
            ],
            "text/html": [
              "\n",
              "  <div id=\"df-ce2fb023-1b74-4649-b1e3-43ca6400d852\">\n",
              "    <div class=\"colab-df-container\">\n",
              "      <div>\n",
              "<style scoped>\n",
              "    .dataframe tbody tr th:only-of-type {\n",
              "        vertical-align: middle;\n",
              "    }\n",
              "\n",
              "    .dataframe tbody tr th {\n",
              "        vertical-align: top;\n",
              "    }\n",
              "\n",
              "    .dataframe thead th {\n",
              "        text-align: right;\n",
              "    }\n",
              "</style>\n",
              "<table border=\"1\" class=\"dataframe\">\n",
              "  <thead>\n",
              "    <tr style=\"text-align: right;\">\n",
              "      <th></th>\n",
              "      <th>Open</th>\n",
              "      <th>High</th>\n",
              "      <th>Low</th>\n",
              "      <th>Close</th>\n",
              "      <th>Volume</th>\n",
              "      <th>Name</th>\n",
              "    </tr>\n",
              "    <tr>\n",
              "      <th>Date</th>\n",
              "      <th></th>\n",
              "      <th></th>\n",
              "      <th></th>\n",
              "      <th></th>\n",
              "      <th></th>\n",
              "      <th></th>\n",
              "    </tr>\n",
              "  </thead>\n",
              "  <tbody>\n",
              "    <tr>\n",
              "      <th>2006-01-03</th>\n",
              "      <td>82.45</td>\n",
              "      <td>82.55</td>\n",
              "      <td>80.81</td>\n",
              "      <td>82.06</td>\n",
              "      <td>11715200</td>\n",
              "      <td>IBM</td>\n",
              "    </tr>\n",
              "    <tr>\n",
              "      <th>2006-01-04</th>\n",
              "      <td>82.20</td>\n",
              "      <td>82.50</td>\n",
              "      <td>81.33</td>\n",
              "      <td>81.95</td>\n",
              "      <td>9840600</td>\n",
              "      <td>IBM</td>\n",
              "    </tr>\n",
              "    <tr>\n",
              "      <th>2006-01-05</th>\n",
              "      <td>81.40</td>\n",
              "      <td>82.90</td>\n",
              "      <td>81.00</td>\n",
              "      <td>82.50</td>\n",
              "      <td>7213500</td>\n",
              "      <td>IBM</td>\n",
              "    </tr>\n",
              "    <tr>\n",
              "      <th>2006-01-06</th>\n",
              "      <td>83.95</td>\n",
              "      <td>85.03</td>\n",
              "      <td>83.41</td>\n",
              "      <td>84.95</td>\n",
              "      <td>8197400</td>\n",
              "      <td>IBM</td>\n",
              "    </tr>\n",
              "    <tr>\n",
              "      <th>2006-01-09</th>\n",
              "      <td>84.10</td>\n",
              "      <td>84.25</td>\n",
              "      <td>83.38</td>\n",
              "      <td>83.73</td>\n",
              "      <td>6858200</td>\n",
              "      <td>IBM</td>\n",
              "    </tr>\n",
              "  </tbody>\n",
              "</table>\n",
              "</div>\n",
              "      <button class=\"colab-df-convert\" onclick=\"convertToInteractive('df-ce2fb023-1b74-4649-b1e3-43ca6400d852')\"\n",
              "              title=\"Convert this dataframe to an interactive table.\"\n",
              "              style=\"display:none;\">\n",
              "        \n",
              "  <svg xmlns=\"http://www.w3.org/2000/svg\" height=\"24px\"viewBox=\"0 0 24 24\"\n",
              "       width=\"24px\">\n",
              "    <path d=\"M0 0h24v24H0V0z\" fill=\"none\"/>\n",
              "    <path d=\"M18.56 5.44l.94 2.06.94-2.06 2.06-.94-2.06-.94-.94-2.06-.94 2.06-2.06.94zm-11 1L8.5 8.5l.94-2.06 2.06-.94-2.06-.94L8.5 2.5l-.94 2.06-2.06.94zm10 10l.94 2.06.94-2.06 2.06-.94-2.06-.94-.94-2.06-.94 2.06-2.06.94z\"/><path d=\"M17.41 7.96l-1.37-1.37c-.4-.4-.92-.59-1.43-.59-.52 0-1.04.2-1.43.59L10.3 9.45l-7.72 7.72c-.78.78-.78 2.05 0 2.83L4 21.41c.39.39.9.59 1.41.59.51 0 1.02-.2 1.41-.59l7.78-7.78 2.81-2.81c.8-.78.8-2.07 0-2.86zM5.41 20L4 18.59l7.72-7.72 1.47 1.35L5.41 20z\"/>\n",
              "  </svg>\n",
              "      </button>\n",
              "      \n",
              "  <style>\n",
              "    .colab-df-container {\n",
              "      display:flex;\n",
              "      flex-wrap:wrap;\n",
              "      gap: 12px;\n",
              "    }\n",
              "\n",
              "    .colab-df-convert {\n",
              "      background-color: #E8F0FE;\n",
              "      border: none;\n",
              "      border-radius: 50%;\n",
              "      cursor: pointer;\n",
              "      display: none;\n",
              "      fill: #1967D2;\n",
              "      height: 32px;\n",
              "      padding: 0 0 0 0;\n",
              "      width: 32px;\n",
              "    }\n",
              "\n",
              "    .colab-df-convert:hover {\n",
              "      background-color: #E2EBFA;\n",
              "      box-shadow: 0px 1px 2px rgba(60, 64, 67, 0.3), 0px 1px 3px 1px rgba(60, 64, 67, 0.15);\n",
              "      fill: #174EA6;\n",
              "    }\n",
              "\n",
              "    [theme=dark] .colab-df-convert {\n",
              "      background-color: #3B4455;\n",
              "      fill: #D2E3FC;\n",
              "    }\n",
              "\n",
              "    [theme=dark] .colab-df-convert:hover {\n",
              "      background-color: #434B5C;\n",
              "      box-shadow: 0px 1px 3px 1px rgba(0, 0, 0, 0.15);\n",
              "      filter: drop-shadow(0px 1px 2px rgba(0, 0, 0, 0.3));\n",
              "      fill: #FFFFFF;\n",
              "    }\n",
              "  </style>\n",
              "\n",
              "      <script>\n",
              "        const buttonEl =\n",
              "          document.querySelector('#df-ce2fb023-1b74-4649-b1e3-43ca6400d852 button.colab-df-convert');\n",
              "        buttonEl.style.display =\n",
              "          google.colab.kernel.accessAllowed ? 'block' : 'none';\n",
              "\n",
              "        async function convertToInteractive(key) {\n",
              "          const element = document.querySelector('#df-ce2fb023-1b74-4649-b1e3-43ca6400d852');\n",
              "          const dataTable =\n",
              "            await google.colab.kernel.invokeFunction('convertToInteractive',\n",
              "                                                     [key], {});\n",
              "          if (!dataTable) return;\n",
              "\n",
              "          const docLinkHtml = 'Like what you see? Visit the ' +\n",
              "            '<a target=\"_blank\" href=https://colab.research.google.com/notebooks/data_table.ipynb>data table notebook</a>'\n",
              "            + ' to learn more about interactive tables.';\n",
              "          element.innerHTML = '';\n",
              "          dataTable['output_type'] = 'display_data';\n",
              "          await google.colab.output.renderOutput(dataTable, element);\n",
              "          const docLink = document.createElement('div');\n",
              "          docLink.innerHTML = docLinkHtml;\n",
              "          element.appendChild(docLink);\n",
              "        }\n",
              "      </script>\n",
              "    </div>\n",
              "  </div>\n",
              "  "
            ]
          },
          "metadata": {},
          "execution_count": 5
        }
      ]
    },
    {
      "cell_type": "code",
      "source": [
        "# Checking for missing values\n",
        "training_set = dataset[:'2016'].iloc[:,1:2].values\n",
        "test_set = dataset['2017':].iloc[:,1:2].values"
      ],
      "metadata": {
        "_uuid": "fb4c9db6d8a5bcf20ffad41747cfa5b6215ba220",
        "collapsed": true,
        "jupyter": {
          "outputs_hidden": true
        },
        "trusted": true,
        "id": "owEqkHEPuJA8"
      },
      "execution_count": 6,
      "outputs": []
    },
    {
      "cell_type": "code",
      "source": [
        "# We have chosen 'High' attribute for prices. Let's see what it looks like\n",
        "dataset[\"High\"][:'2016'].plot(figsize=(16,4),legend=True)\n",
        "dataset[\"High\"]['2017':].plot(figsize=(16,4),legend=True)\n",
        "plt.legend(['Training set (Before 2017)','Test set (2017 and beyond)'])\n",
        "plt.title('IBM stock price')\n",
        "plt.show()"
      ],
      "metadata": {
        "_uuid": "bf5a9463d58e73852d2b70be9611e8cf1f4166fd",
        "collapsed": true,
        "jupyter": {
          "outputs_hidden": true
        },
        "trusted": true,
        "colab": {
          "base_uri": "https://localhost:8080/",
          "height": 283
        },
        "id": "GKEyhteauJA8",
        "outputId": "eafbfa70-b6bf-4d05-92ae-b364c04e4e8c"
      },
      "execution_count": 7,
      "outputs": [
        {
          "output_type": "display_data",
          "data": {
            "text/plain": [
              "<Figure size 1152x288 with 1 Axes>"
            ],
            "image/png": "[encoded data removed]"
          },
          "metadata": {}
        }
      ]
    },
    {
      "cell_type": "code",
      "source": [
        "# Scaling the training set\n",
        "sc = MinMaxScaler(feature_range=(0,1))\n",
        "training_set_scaled = sc.fit_transform(training_set)"
      ],
      "metadata": {
        "_uuid": "bcc9c36165fc07d258bd5ea87874d2da17fa4a4d",
        "collapsed": true,
        "jupyter": {
          "outputs_hidden": true
        },
        "trusted": true,
        "id": "mltK7bbvuJA9"
      },
      "execution_count": 8,
      "outputs": []
    },
    {
      "cell_type": "code",
      "source": [
        "# Since LSTMs store long term memory state, we create a data structure with 60 timesteps and 1 output\n",
        "# So for each element of training set, we have 60 previous training set elements \n",
        "X_train = []\n",
        "y_train = []\n",
        "for i in range(60,2769):\n",
        "    X_train.append(training_set_scaled[i-60:i,0])\n",
        "    y_train.append(training_set_scaled[i,0])\n",
        "X_train, y_train = np.array(X_train), np.array(y_train)"
      ],
      "metadata": {
        "_uuid": "fccfb866a2b4c702e0b2742f7c0289512d713d1b",
        "collapsed": true,
        "jupyter": {
          "outputs_hidden": true
        },
        "trusted": true,
        "id": "IsBHtFfwuJA9"
      },
      "execution_count": 9,
      "outputs": []
    },
    {
      "cell_type": "code",
      "source": [
        "# Reshaping X_train for efficient modelling\n",
        "X_train = np.reshape(X_train, (X_train.shape[0],X_train.shape[1],1))"
      ],
      "metadata": {
        "_uuid": "637f699d3c4bde4b783de56ed4dd70a1bf59760d",
        "collapsed": true,
        "jupyter": {
          "outputs_hidden": true
        },
        "trusted": true,
        "id": "IZnRnsRwuJA9"
      },
      "execution_count": 10,
      "outputs": []
    },
    {
      "cell_type": "code",
      "source": [
        "# The LSTM architecture\n",
        "regressor = Sequential()\n",
        "# First LSTM layer with Dropout regularisation\n",
        "regressor.add(LSTM(units=50, return_sequences=True, input_shape=(X_train.shape[1],1)))\n",
        "regressor.add(Dropout(0.2))\n",
        "# Second LSTM layer\n",
        "regressor.add(LSTM(units=50, return_sequences=True))\n",
        "regressor.add(Dropout(0.2))\n",
        "# Third LSTM layer\n",
        "regressor.add(LSTM(units=50, return_sequences=True))\n",
        "regressor.add(Dropout(0.2))\n",
        "# Fourth LSTM layer\n",
        "regressor.add(LSTM(units=50))\n",
        "regressor.add(Dropout(0.2))\n",
        "# The output layer\n",
        "regressor.add(Dense(units=1))\n",
        "\n",
        "# Compiling the RNN\n",
        "regressor.compile(optimizer='rmsprop',loss='mean_squared_error')\n",
        "# Fitting to the training set\n",
        "regressor.fit(X_train,y_train,epochs=50,batch_size=32)"
      ],
      "metadata": {
        "_uuid": "df20eb7e8062dae0a3aff2182aa440faddd0017d",
        "collapsed": true,
        "jupyter": {
          "outputs_hidden": true
        },
        "trusted": true,
        "colab": {
          "base_uri": "https://localhost:8080/"
        },
        "id": "OZC-RRDxuJA-",
        "outputId": "918413cc-1686-4bc1-9571-69d2099a0aff"
      },
      "execution_count": 11,
      "outputs": [
        {
          "output_type": "stream",
          "name": "stdout",
          "text": [
            "Epoch 1/50\n",
            "85/85 [==============================] - 13s 81ms/step - loss: 0.0274\n",
            "Epoch 2/50\n",
            "85/85 [==============================] - 8s 96ms/step - loss: 0.0101\n",
            "Epoch 3/50\n",
            "85/85 [==============================] - 7s 80ms/step - loss: 0.0084\n",
            "Epoch 4/50\n",
            "85/85 [==============================] - 7s 81ms/step - loss: 0.0075\n",
            "Epoch 5/50\n",
            "85/85 [==============================] - 7s 87ms/step - loss: 0.0064\n",
            "Epoch 6/50\n",
            "85/85 [==============================] - 7s 81ms/step - loss: 0.0054\n",
            "Epoch 7/50\n",
            "85/85 [==============================] - 7s 80ms/step - loss: 0.0049\n",
            "Epoch 8/50\n",
            "85/85 [==============================] - 7s 79ms/step - loss: 0.0046\n",
            "Epoch 9/50\n",
            "85/85 [==============================] - 7s 81ms/step - loss: 0.0044\n",
            "Epoch 10/50\n",
            "85/85 [==============================] - 7s 80ms/step - loss: 0.0038\n",
            "Epoch 11/50\n",
            "85/85 [==============================] - 7s 81ms/step - loss: 0.0037\n",
            "Epoch 12/50\n",
            "85/85 [==============================] - 7s 80ms/step - loss: 0.0034\n",
            "Epoch 13/50\n",
            "85/85 [==============================] - 7s 81ms/step - loss: 0.0033\n",
            "Epoch 14/50\n",
            "85/85 [==============================] - 7s 81ms/step - loss: 0.0035\n",
            "Epoch 15/50\n",
            "85/85 [==============================] - 7s 82ms/step - loss: 0.0031\n",
            "Epoch 16/50\n",
            "85/85 [==============================] - 7s 82ms/step - loss: 0.0030\n",
            "Epoch 17/50\n",
            "85/85 [==============================] - 7s 82ms/step - loss: 0.0029\n",
            "Epoch 18/50\n",
            "85/85 [==============================] - 7s 81ms/step - loss: 0.0026\n",
            "Epoch 19/50\n",
            "85/85 [==============================] - 7s 81ms/step - loss: 0.0025\n",
            "Epoch 20/50\n",
            "85/85 [==============================] - 7s 80ms/step - loss: 0.0027\n",
            "Epoch 21/50\n",
            "85/85 [==============================] - 7s 81ms/step - loss: 0.0024\n",
            "Epoch 22/50\n",
            "85/85 [==============================] - 7s 82ms/step - loss: 0.0024\n",
            "Epoch 23/50\n",
            "85/85 [==============================] - 7s 83ms/step - loss: 0.0022\n",
            "Epoch 24/50\n",
            "85/85 [==============================] - 7s 80ms/step - loss: 0.0022\n",
            "Epoch 25/50\n",
            "85/85 [==============================] - 7s 88ms/step - loss: 0.0023\n",
            "Epoch 26/50\n",
            "85/85 [==============================] - 7s 80ms/step - loss: 0.0022\n",
            "Epoch 27/50\n",
            "85/85 [==============================] - 7s 81ms/step - loss: 0.0021\n",
            "Epoch 28/50\n",
            "85/85 [==============================] - 7s 82ms/step - loss: 0.0021\n",
            "Epoch 29/50\n",
            "85/85 [==============================] - 7s 81ms/step - loss: 0.0019\n",
            "Epoch 30/50\n",
            "85/85 [==============================] - 7s 80ms/step - loss: 0.0018\n",
            "Epoch 31/50\n",
            "85/85 [==============================] - 7s 81ms/step - loss: 0.0018\n",
            "Epoch 32/50\n",
            "85/85 [==============================] - 7s 80ms/step - loss: 0.0019\n",
            "Epoch 33/50\n",
            "85/85 [==============================] - 7s 82ms/step - loss: 0.0018\n",
            "Epoch 34/50\n",
            "85/85 [==============================] - 7s 81ms/step - loss: 0.0018\n",
            "Epoch 35/50\n",
            "85/85 [==============================] - 7s 82ms/step - loss: 0.0017\n",
            "Epoch 36/50\n",
            "85/85 [==============================] - 7s 80ms/step - loss: 0.0017\n",
            "Epoch 37/50\n",
            "85/85 [==============================] - 7s 81ms/step - loss: 0.0017\n",
            "Epoch 38/50\n",
            "85/85 [==============================] - 7s 81ms/step - loss: 0.0018\n",
            "Epoch 39/50\n",
            "85/85 [==============================] - 7s 82ms/step - loss: 0.0017\n",
            "Epoch 40/50\n",
            "85/85 [==============================] - 7s 81ms/step - loss: 0.0017\n",
            "Epoch 41/50\n",
            "85/85 [==============================] - 7s 81ms/step - loss: 0.0015\n",
            "Epoch 42/50\n",
            "85/85 [==============================] - 7s 82ms/step - loss: 0.0016\n",
            "Epoch 43/50\n",
            "85/85 [==============================] - 7s 81ms/step - loss: 0.0015\n",
            "Epoch 44/50\n",
            "85/85 [==============================] - 7s 82ms/step - loss: 0.0015\n",
            "Epoch 45/50\n",
            "85/85 [==============================] - 7s 82ms/step - loss: 0.0015\n",
            "Epoch 46/50\n",
            "85/85 [==============================] - 7s 81ms/step - loss: 0.0015\n",
            "Epoch 47/50\n",
            "85/85 [==============================] - 7s 86ms/step - loss: 0.0014\n",
            "Epoch 48/50\n",
            "85/85 [==============================] - 7s 81ms/step - loss: 0.0015\n",
            "Epoch 49/50\n",
            "85/85 [==============================] - 7s 81ms/step - loss: 0.0015\n",
            "Epoch 50/50\n",
            "85/85 [==============================] - 7s 81ms/step - loss: 0.0014\n"
          ]
        },
        {
          "output_type": "execute_result",
          "data": {
            "text/plain": [
              "<keras.callbacks.History at 0x7f3bea6a2d10>"
            ]
          },
          "metadata": {},
          "execution_count": 11
        }
      ]
    },
    {
      "cell_type": "code",
      "source": [
        "# Now to get the test set ready in a similar way as the training set.\n",
        "# The following has been done so forst 60 entires of test set have 60 previous values which is impossible to get unless we take the whole \n",
        "# 'High' attribute data for processing\n",
        "dataset_total = pd.concat((dataset[\"High\"][:'2016'],dataset[\"High\"]['2017':]),axis=0)\n",
        "inputs = dataset_total[len(dataset_total)-len(test_set) - 60:].values\n",
        "inputs = inputs.reshape(-1,1)\n",
        "inputs  = sc.transform(inputs)"
      ],
      "metadata": {
        "_uuid": "326fa85615622feb484cc4c848edeec6f7133913",
        "collapsed": true,
        "jupyter": {
          "outputs_hidden": true
        },
        "trusted": true,
        "id": "QwTDr8MtuJA-"
      },
      "execution_count": 12,
      "outputs": []
    },
    {
      "cell_type": "code",
      "source": [
        "# Preparing X_test and predicting the prices\n",
        "X_test = []\n",
        "for i in range(60,311):\n",
        "    X_test.append(inputs[i-60:i,0])\n",
        "X_test = np.array(X_test)\n",
        "X_test = np.reshape(X_test, (X_test.shape[0],X_test.shape[1],1))\n",
        "predicted_stock_price = regressor.predict(X_test)\n",
        "predicted_stock_price = sc.inverse_transform(predicted_stock_price)"
      ],
      "metadata": {
        "_uuid": "435b8024814939ac4fbd372baa0cd8cfc78f80bc",
        "collapsed": true,
        "jupyter": {
          "outputs_hidden": true
        },
        "trusted": true,
        "colab": {
          "base_uri": "https://localhost:8080/"
        },
        "id": "LWVPTWWiuJA_",
        "outputId": "41a7e606-b9cf-4e70-a388-a5312b9df3f7"
      },
      "execution_count": 13,
      "outputs": [
        {
          "output_type": "stream",
          "name": "stdout",
          "text": [
            "8/8 [==============================] - 1s 23ms/step\n"
          ]
        }
      ]
    },
    {
      "cell_type": "code",
      "source": [
        "# Visualizing the results for LSTM\n",
        "plot_predictions(test_set,predicted_stock_price)"
      ],
      "metadata": {
        "_uuid": "b774a8e79e53eac89694cafef6b11aa99226b95f",
        "collapsed": true,
        "jupyter": {
          "outputs_hidden": true
        },
        "trusted": true,
        "colab": {
          "base_uri": "https://localhost:8080/",
          "height": 325
        },
        "id": "r8XKjruDuJA_",
        "outputId": "d315030b-f3c0-4462-825d-41757c394f9a"
      },
      "execution_count": 14,
      "outputs": [
        {
          "output_type": "display_data",
          "data": {
            "text/plain": [
              "<Figure size 432x288 with 1 Axes>"
            ],
            "image/png": "[encoded data removed]"
          },
          "metadata": {}
        }
      ]
    },
    {
      "cell_type": "code",
      "source": [
        "# Evaluating our model\n",
        "return_rmse(test_set,predicted_stock_price)"
      ],
      "metadata": {
        "_uuid": "f6f6db0b6e1f17ac63c06ce49856873d98ba5f00",
        "collapsed": true,
        "jupyter": {
          "outputs_hidden": true
        },
        "trusted": true,
        "colab": {
          "base_uri": "https://localhost:8080/"
        },
        "id": "fu6GkEQsuJBA",
        "outputId": "e34b755c-ad04-41b7-d6c8-f8ce16080c17"
      },
      "execution_count": 15,
      "outputs": [
        {
          "output_type": "stream",
          "name": "stdout",
          "text": [
            "The root mean squared error is 2.429414255359517.\n"
          ]
        }
      ]
    },
    {
      "cell_type": "code",
      "source": [
        "# The GRU architecture\n",
        "regressorGRU = Sequential()\n",
        "# First GRU layer with Dropout regularisation\n",
        "regressorGRU.add(GRU(units=50, return_sequences=True, input_shape=(X_train.shape[1],1), activation='tanh'))\n",
        "regressorGRU.add(Dropout(0.2))\n",
        "# Second GRU layer\n",
        "regressorGRU.add(GRU(units=50, return_sequences=True, input_shape=(X_train.shape[1],1), activation='tanh'))\n",
        "regressorGRU.add(Dropout(0.2))\n",
        "# Third GRU layer\n",
        "regressorGRU.add(GRU(units=50, return_sequences=True, input_shape=(X_train.shape[1],1), activation='tanh'))\n",
        "regressorGRU.add(Dropout(0.2))\n",
        "# Fourth GRU layer\n",
        "regressorGRU.add(GRU(units=50, activation='tanh'))\n",
        "regressorGRU.add(Dropout(0.2))\n",
        "# The output layer\n",
        "regressorGRU.add(Dense(units=1))\n",
        "# Compiling the RNN\n",
        "regressorGRU.compile(optimizer=SGD(lr=0.01, decay=1e-7, momentum=0.9, nesterov=False),loss='mean_squared_error')\n",
        "# Fitting to the training set\n",
        "regressorGRU.fit(X_train,y_train,epochs=50,batch_size=150)"
      ],
      "metadata": {
        "_uuid": "e9b616c5112d707d16cc4b277007e286cffd58f6",
        "collapsed": true,
        "jupyter": {
          "outputs_hidden": true
        },
        "trusted": true,
        "colab": {
          "base_uri": "https://localhost:8080/"
        },
        "id": "7hJiSUgiuJBA",
        "outputId": "0911a89a-4fa2-4eae-dcb9-97e3a69bee32"
      },
      "execution_count": 16,
      "outputs": [
        {
          "output_type": "stream",
          "name": "stdout",
          "text": [
            "Epoch 1/50\n"
          ]
        },
        {
          "output_type": "stream",
          "name": "stderr",
          "text": [
            "/usr/local/lib/python3.7/dist-packages/keras/optimizers/optimizer_v2/gradient_descent.py:108: UserWarning: The `lr` argument is deprecated, use `learning_rate` instead.\n",
            "  super(SGD, self).__init__(name, **kwargs)\n"
          ]
        },
        {
          "output_type": "stream",
          "name": "stdout",
          "text": [
            "19/19 [==============================] - 11s 143ms/step - loss: 0.1075\n",
            "Epoch 2/50\n",
            "19/19 [==============================] - 3s 145ms/step - loss: 0.0459\n",
            "Epoch 3/50\n",
            "19/19 [==============================] - 4s 211ms/step - loss: 0.0174\n",
            "Epoch 4/50\n",
            "19/19 [==============================] - 4s 222ms/step - loss: 0.0054\n",
            "Epoch 5/50\n",
            "19/19 [==============================] - 4s 194ms/step - loss: 0.0045\n",
            "Epoch 6/50\n",
            "19/19 [==============================] - 4s 217ms/step - loss: 0.0043\n",
            "Epoch 7/50\n",
            "19/19 [==============================] - 3s 144ms/step - loss: 0.0041\n",
            "Epoch 8/50\n",
            "19/19 [==============================] - 3s 144ms/step - loss: 0.0035\n",
            "Epoch 9/50\n",
            "19/19 [==============================] - 3s 146ms/step - loss: 0.0037\n",
            "Epoch 10/50\n",
            "19/19 [==============================] - 3s 141ms/step - loss: 0.0034\n",
            "Epoch 11/50\n",
            "19/19 [==============================] - 4s 187ms/step - loss: 0.0033\n",
            "Epoch 12/50\n",
            "19/19 [==============================] - 3s 164ms/step - loss: 0.0033\n",
            "Epoch 13/50\n",
            "19/19 [==============================] - 3s 180ms/step - loss: 0.0030\n",
            "Epoch 14/50\n",
            "19/19 [==============================] - 4s 191ms/step - loss: 0.0029\n",
            "Epoch 15/50\n",
            "19/19 [==============================] - 5s 254ms/step - loss: 0.0028\n",
            "Epoch 16/50\n",
            "19/19 [==============================] - 3s 141ms/step - loss: 0.0028\n",
            "Epoch 17/50\n",
            "19/19 [==============================] - 3s 149ms/step - loss: 0.0028\n",
            "Epoch 18/50\n",
            "19/19 [==============================] - 3s 144ms/step - loss: 0.0028\n",
            "Epoch 19/50\n",
            "19/19 [==============================] - 3s 148ms/step - loss: 0.0026\n",
            "Epoch 20/50\n",
            "19/19 [==============================] - 3s 154ms/step - loss: 0.0027\n",
            "Epoch 21/50\n",
            "19/19 [==============================] - 3s 143ms/step - loss: 0.0026\n",
            "Epoch 22/50\n",
            "19/19 [==============================] - 3s 142ms/step - loss: 0.0025\n",
            "Epoch 23/50\n",
            "19/19 [==============================] - 3s 142ms/step - loss: 0.0024\n",
            "Epoch 24/50\n",
            "19/19 [==============================] - 3s 142ms/step - loss: 0.0023\n",
            "Epoch 25/50\n",
            "19/19 [==============================] - 3s 142ms/step - loss: 0.0024\n",
            "Epoch 26/50\n",
            "19/19 [==============================] - 3s 141ms/step - loss: 0.0024\n",
            "Epoch 27/50\n",
            "19/19 [==============================] - 3s 146ms/step - loss: 0.0024\n",
            "Epoch 28/50\n",
            "19/19 [==============================] - 3s 142ms/step - loss: 0.0023\n",
            "Epoch 29/50\n",
            "19/19 [==============================] - 3s 140ms/step - loss: 0.0023\n",
            "Epoch 30/50\n",
            "19/19 [==============================] - 3s 144ms/step - loss: 0.0024\n",
            "Epoch 31/50\n",
            "19/19 [==============================] - 3s 143ms/step - loss: 0.0022\n",
            "Epoch 32/50\n",
            "19/19 [==============================] - 3s 141ms/step - loss: 0.0023\n",
            "Epoch 33/50\n",
            "19/19 [==============================] - 3s 143ms/step - loss: 0.0024\n",
            "Epoch 34/50\n",
            "19/19 [==============================] - 3s 140ms/step - loss: 0.0023\n",
            "Epoch 35/50\n",
            "19/19 [==============================] - 3s 142ms/step - loss: 0.0022\n",
            "Epoch 36/50\n",
            "19/19 [==============================] - 3s 143ms/step - loss: 0.0022\n",
            "Epoch 37/50\n",
            "19/19 [==============================] - 3s 147ms/step - loss: 0.0021\n",
            "Epoch 38/50\n",
            "19/19 [==============================] - 3s 143ms/step - loss: 0.0023\n",
            "Epoch 39/50\n",
            "19/19 [==============================] - 3s 143ms/step - loss: 0.0022\n",
            "Epoch 40/50\n",
            "19/19 [==============================] - 3s 143ms/step - loss: 0.0021\n",
            "Epoch 41/50\n",
            "19/19 [==============================] - 3s 142ms/step - loss: 0.0020\n",
            "Epoch 42/50\n",
            "19/19 [==============================] - 3s 142ms/step - loss: 0.0021\n",
            "Epoch 43/50\n",
            "19/19 [==============================] - 3s 151ms/step - loss: 0.0020\n",
            "Epoch 44/50\n",
            "19/19 [==============================] - 3s 142ms/step - loss: 0.0020\n",
            "Epoch 45/50\n",
            "19/19 [==============================] - 3s 186ms/step - loss: 0.0022\n",
            "Epoch 46/50\n",
            "19/19 [==============================] - 3s 182ms/step - loss: 0.0020\n",
            "Epoch 47/50\n",
            "19/19 [==============================] - 3s 167ms/step - loss: 0.0020\n",
            "Epoch 48/50\n",
            "19/19 [==============================] - 3s 159ms/step - loss: 0.0021\n",
            "Epoch 49/50\n",
            "19/19 [==============================] - 3s 143ms/step - loss: 0.0020\n",
            "Epoch 50/50\n",
            "19/19 [==============================] - 3s 143ms/step - loss: 0.0020\n"
          ]
        },
        {
          "output_type": "execute_result",
          "data": {
            "text/plain": [
              "<keras.callbacks.History at 0x7f3bea3ac950>"
            ]
          },
          "metadata": {},
          "execution_count": 16
        }
      ]
    },
    {
      "cell_type": "code",
      "source": [
        "# Preparing X_test and predicting the prices\n",
        "X_test = []\n",
        "for i in range(60,311):\n",
        "    X_test.append(inputs[i-60:i,0])\n",
        "X_test = np.array(X_test)\n",
        "X_test = np.reshape(X_test, (X_test.shape[0],X_test.shape[1],1))\n",
        "GRU_predicted_stock_price = regressorGRU.predict(X_test)\n",
        "GRU_predicted_stock_price = sc.inverse_transform(GRU_predicted_stock_price)"
      ],
      "metadata": {
        "_uuid": "f20ca021ea3ce05f6c6a98db93775f1b2c9c022c",
        "collapsed": true,
        "jupyter": {
          "outputs_hidden": true
        },
        "trusted": true,
        "colab": {
          "base_uri": "https://localhost:8080/"
        },
        "id": "YNigXtgLuJBB",
        "outputId": "8de4c7e2-4353-43c2-8caa-7a95b5c9bf74"
      },
      "execution_count": 17,
      "outputs": [
        {
          "output_type": "stream",
          "name": "stdout",
          "text": [
            "8/8 [==============================] - 2s 18ms/step\n"
          ]
        }
      ]
    },
    {
      "cell_type": "code",
      "source": [
        "# Visualizing the results for GRU\n",
        "plot_predictions(test_set,GRU_predicted_stock_price)"
      ],
      "metadata": {
        "_uuid": "da8e9fa28510aa03e7dd06d5070d7b16e05ebb6e",
        "collapsed": true,
        "jupyter": {
          "outputs_hidden": true
        },
        "trusted": true,
        "colab": {
          "base_uri": "https://localhost:8080/",
          "height": 325
        },
        "id": "YNplnYkkuJBC",
        "outputId": "4ed1a5f8-4749-44ed-9d58-688acae6eda2"
      },
      "execution_count": 18,
      "outputs": [
        {
          "output_type": "display_data",
          "data": {
            "text/plain": [
              "<Figure size 432x288 with 1 Axes>"
            ],
            "image/png": "[encoded data removed]"
          },
          "metadata": {}
        }
      ]
    },
    {
      "cell_type": "code",
      "source": [
        "# Evaluating GRU\n",
        "return_rmse(test_set,GRU_predicted_stock_price)"
      ],
      "metadata": {
        "_uuid": "23aec5ab1a717e3458c8d5cae68db0e7add091ae",
        "collapsed": true,
        "jupyter": {
          "outputs_hidden": true
        },
        "trusted": true,
        "colab": {
          "base_uri": "https://localhost:8080/"
        },
        "id": "94sSbLRSuJBC",
        "outputId": "ef3cd635-b611-4939-b0bb-6e271d196a92"
      },
      "execution_count": 19,
      "outputs": [
        {
          "output_type": "stream",
          "name": "stdout",
          "text": [
            "The root mean squared error is 3.2645514985348547.\n"
          ]
        }
      ]
    },
    {
      "cell_type": "code",
      "source": [
        "# Preparing sequence data\n",
        "initial_sequence = X_train[2708,:]\n",
        "sequence = []\n",
        "for i in range(251):\n",
        "    new_prediction = regressorGRU.predict(initial_sequence.reshape(initial_sequence.shape[1],initial_sequence.shape[0],1))\n",
        "    initial_sequence = initial_sequence[1:]\n",
        "    initial_sequence = np.append(initial_sequence,new_prediction,axis=0)\n",
        "    sequence.append(new_prediction)\n",
        "sequence = sc.inverse_transform(np.array(sequence).reshape(251,1))"
      ],
      "metadata": {
        "_uuid": "2949de3c668a788117221000567aaa7033cd1a17",
        "trusted": true,
        "colab": {
          "base_uri": "https://localhost:8080/"
        },
        "id": "QoQBcuGguJBC",
        "outputId": "56c9d066-b86f-4571-8cbe-99cc3adc2b29"
      },
      "execution_count": 20,
      "outputs": [
        {
          "output_type": "stream",
          "name": "stdout",
          "text": [
            "1/1 [==============================] - 0s 30ms/step\n",
            "1/1 [==============================] - 0s 27ms/step\n",
            "1/1 [==============================] - 0s 21ms/step\n",
            "1/1 [==============================] - 0s 23ms/step\n",
            "1/1 [==============================] - 0s 25ms/step\n",
            "1/1 [==============================] - 0s 26ms/step\n",
            "1/1 [==============================] - 0s 22ms/step\n",
            "1/1 [==============================] - 0s 23ms/step\n",
            "1/1 [==============================] - 0s 26ms/step\n",
            "1/1 [==============================] - 0s 20ms/step\n",
            "1/1 [==============================] - 0s 21ms/step\n",
            "1/1 [==============================] - 0s 18ms/step\n",
            "1/1 [==============================] - 0s 23ms/step\n",
            "1/1 [==============================] - 0s 20ms/step\n",
            "1/1 [==============================] - 0s 23ms/step\n",
            "1/1 [==============================] - 0s 20ms/step\n",
            "1/1 [==============================] - 0s 23ms/step\n",
            "1/1 [==============================] - 0s 23ms/step\n",
            "1/1 [==============================] - 0s 19ms/step\n",
            "1/1 [==============================] - 0s 21ms/step\n",
            "1/1 [==============================] - 0s 23ms/step\n",
            "1/1 [==============================] - 0s 20ms/step\n",
            "1/1 [==============================] - 0s 24ms/step\n",
            "1/1 [==============================] - 0s 21ms/step\n",
            "1/1 [==============================] - 0s 28ms/step\n",
            "1/1 [==============================] - 0s 25ms/step\n",
            "1/1 [==============================] - 0s 30ms/step\n",
            "1/1 [==============================] - 0s 20ms/step\n",
            "1/1 [==============================] - 0s 19ms/step\n",
            "1/1 [==============================] - 0s 19ms/step\n",
            "1/1 [==============================] - 0s 26ms/step\n",
            "1/1 [==============================] - 0s 21ms/step\n",
            "1/1 [==============================] - 0s 22ms/step\n",
            "1/1 [==============================] - 0s 20ms/step\n",
            "1/1 [==============================] - 0s 20ms/step\n",
            "1/1 [==============================] - 0s 29ms/step\n",
            "1/1 [==============================] - 0s 23ms/step\n",
            "1/1 [==============================] - 0s 23ms/step\n",
            "1/1 [==============================] - 0s 21ms/step\n",
            "1/1 [==============================] - 0s 22ms/step\n",
            "1/1 [==============================] - 0s 21ms/step\n",
            "1/1 [==============================] - 0s 23ms/step\n",
            "1/1 [==============================] - 0s 20ms/step\n",
            "1/1 [==============================] - 0s 21ms/step\n",
            "1/1 [==============================] - 0s 23ms/step\n",
            "1/1 [==============================] - 0s 21ms/step\n",
            "1/1 [==============================] - 0s 19ms/step\n",
            "1/1 [==============================] - 0s 19ms/step\n",
            "1/1 [==============================] - 0s 19ms/step\n",
            "1/1 [==============================] - 0s 20ms/step\n",
            "1/1 [==============================] - 0s 19ms/step\n",
            "1/1 [==============================] - 0s 27ms/step\n",
            "1/1 [==============================] - 0s 24ms/step\n",
            "1/1 [==============================] - 0s 21ms/step\n",
            "1/1 [==============================] - 0s 20ms/step\n",
            "1/1 [==============================] - 0s 23ms/step\n",
            "1/1 [==============================] - 0s 22ms/step\n",
            "1/1 [==============================] - 0s 22ms/step\n",
            "1/1 [==============================] - 0s 31ms/step\n",
            "1/1 [==============================] - 0s 22ms/step\n",
            "1/1 [==============================] - 0s 22ms/step\n",
            "1/1 [==============================] - 0s 22ms/step\n",
            "1/1 [==============================] - 0s 25ms/step\n",
            "1/1 [==============================] - 0s 28ms/step\n",
            "1/1 [==============================] - 0s 22ms/step\n",
            "1/1 [==============================] - 0s 24ms/step\n",
            "1/1 [==============================] - 0s 21ms/step\n",
            "1/1 [==============================] - 0s 22ms/step\n",
            "1/1 [==============================] - 0s 25ms/step\n",
            "1/1 [==============================] - 0s 23ms/step\n",
            "1/1 [==============================] - 0s 20ms/step\n",
            "1/1 [==============================] - 0s 24ms/step\n",
            "1/1 [==============================] - 0s 22ms/step\n",
            "1/1 [==============================] - 0s 21ms/step\n",
            "1/1 [==============================] - 0s 23ms/step\n",
            "1/1 [==============================] - 0s 22ms/step\n",
            "1/1 [==============================] - 0s 22ms/step\n",
            "1/1 [==============================] - 0s 21ms/step\n",
            "1/1 [==============================] - 0s 31ms/step\n",
            "1/1 [==============================] - 0s 26ms/step\n",
            "1/1 [==============================] - 0s 23ms/step\n",
            "1/1 [==============================] - 0s 22ms/step\n",
            "1/1 [==============================] - 0s 23ms/step\n",
            "1/1 [==============================] - 0s 21ms/step\n",
            "1/1 [==============================] - 0s 19ms/step\n",
            "1/1 [==============================] - 0s 26ms/step\n",
            "1/1 [==============================] - 0s 26ms/step\n",
            "1/1 [==============================] - 0s 22ms/step\n",
            "1/1 [==============================] - 0s 21ms/step\n",
            "1/1 [==============================] - 0s 22ms/step\n",
            "1/1 [==============================] - 0s 22ms/step\n",
            "1/1 [==============================] - 0s 26ms/step\n",
            "1/1 [==============================] - 0s 24ms/step\n",
            "1/1 [==============================] - 0s 25ms/step\n",
            "1/1 [==============================] - 0s 21ms/step\n",
            "1/1 [==============================] - 0s 19ms/step\n",
            "1/1 [==============================] - 0s 23ms/step\n",
            "1/1 [==============================] - 0s 21ms/step\n",
            "1/1 [==============================] - 0s 25ms/step\n",
            "1/1 [==============================] - 0s 24ms/step\n",
            "1/1 [==============================] - 0s 23ms/step\n",
            "1/1 [==============================] - 0s 20ms/step\n",
            "1/1 [==============================] - 0s 24ms/step\n",
            "1/1 [==============================] - 0s 23ms/step\n",
            "1/1 [==============================] - 0s 24ms/step\n",
            "1/1 [==============================] - 0s 19ms/step\n",
            "1/1 [==============================] - 0s 24ms/step\n",
            "1/1 [==============================] - 0s 23ms/step\n",
            "1/1 [==============================] - 0s 20ms/step\n",
            "1/1 [==============================] - 0s 20ms/step\n",
            "1/1 [==============================] - 0s 20ms/step\n",
            "1/1 [==============================] - 0s 19ms/step\n",
            "1/1 [==============================] - 0s 21ms/step\n",
            "1/1 [==============================] - 0s 22ms/step\n",
            "1/1 [==============================] - 0s 21ms/step\n",
            "1/1 [==============================] - 0s 20ms/step\n",
            "1/1 [==============================] - 0s 22ms/step\n",
            "1/1 [==============================] - 0s 20ms/step\n",
            "1/1 [==============================] - 0s 19ms/step\n",
            "1/1 [==============================] - 0s 21ms/step\n",
            "1/1 [==============================] - 0s 23ms/step\n",
            "1/1 [==============================] - 0s 21ms/step\n",
            "1/1 [==============================] - 0s 19ms/step\n",
            "1/1 [==============================] - 0s 22ms/step\n",
            "1/1 [==============================] - 0s 22ms/step\n",
            "1/1 [==============================] - 0s 23ms/step\n",
            "1/1 [==============================] - 0s 24ms/step\n",
            "1/1 [==============================] - 0s 23ms/step\n",
            "1/1 [==============================] - 0s 23ms/step\n",
            "1/1 [==============================] - 0s 23ms/step\n",
            "1/1 [==============================] - 0s 22ms/step\n",
            "1/1 [==============================] - 0s 26ms/step\n",
            "1/1 [==============================] - 0s 32ms/step\n",
            "1/1 [==============================] - 0s 24ms/step\n",
            "1/1 [==============================] - 0s 30ms/step\n",
            "1/1 [==============================] - 0s 26ms/step\n",
            "1/1 [==============================] - 0s 22ms/step\n",
            "1/1 [==============================] - 0s 22ms/step\n",
            "1/1 [==============================] - 0s 29ms/step\n",
            "1/1 [==============================] - 0s 25ms/step\n",
            "1/1 [==============================] - 0s 28ms/step\n",
            "1/1 [==============================] - 0s 28ms/step\n",
            "1/1 [==============================] - 0s 23ms/step\n",
            "1/1 [==============================] - 0s 22ms/step\n",
            "1/1 [==============================] - 0s 26ms/step\n",
            "1/1 [==============================] - 0s 24ms/step\n",
            "1/1 [==============================] - 0s 24ms/step\n",
            "1/1 [==============================] - 0s 23ms/step\n",
            "1/1 [==============================] - 0s 22ms/step\n",
            "1/1 [==============================] - 0s 21ms/step\n",
            "1/1 [==============================] - 0s 27ms/step\n",
            "1/1 [==============================] - 0s 36ms/step\n",
            "1/1 [==============================] - 0s 25ms/step\n",
            "1/1 [==============================] - 0s 25ms/step\n",
            "1/1 [==============================] - 0s 21ms/step\n",
            "1/1 [==============================] - 0s 25ms/step\n",
            "1/1 [==============================] - 0s 25ms/step\n",
            "1/1 [==============================] - 0s 28ms/step\n",
            "1/1 [==============================] - 0s 27ms/step\n",
            "1/1 [==============================] - 0s 28ms/step\n",
            "1/1 [==============================] - 0s 28ms/step\n",
            "1/1 [==============================] - 0s 26ms/step\n",
            "1/1 [==============================] - 0s 27ms/step\n",
            "1/1 [==============================] - 0s 25ms/step\n",
            "1/1 [==============================] - 0s 26ms/step\n",
            "1/1 [==============================] - 0s 27ms/step\n",
            "1/1 [==============================] - 0s 21ms/step\n",
            "1/1 [==============================] - 0s 26ms/step\n",
            "1/1 [==============================] - 0s 25ms/step\n",
            "1/1 [==============================] - 0s 22ms/step\n",
            "1/1 [==============================] - 0s 21ms/step\n",
            "1/1 [==============================] - 0s 26ms/step\n",
            "1/1 [==============================] - 0s 23ms/step\n",
            "1/1 [==============================] - 0s 23ms/step\n",
            "1/1 [==============================] - 0s 21ms/step\n",
            "1/1 [==============================] - 0s 25ms/step\n",
            "1/1 [==============================] - 0s 24ms/step\n",
            "1/1 [==============================] - 0s 20ms/step\n",
            "1/1 [==============================] - 0s 21ms/step\n",
            "1/1 [==============================] - 0s 21ms/step\n",
            "1/1 [==============================] - 0s 21ms/step\n",
            "1/1 [==============================] - 0s 22ms/step\n",
            "1/1 [==============================] - 0s 25ms/step\n",
            "1/1 [==============================] - 0s 23ms/step\n",
            "1/1 [==============================] - 0s 24ms/step\n",
            "1/1 [==============================] - 0s 26ms/step\n",
            "1/1 [==============================] - 0s 23ms/step\n",
            "1/1 [==============================] - 0s 22ms/step\n",
            "1/1 [==============================] - 0s 20ms/step\n",
            "1/1 [==============================] - 0s 21ms/step\n",
            "1/1 [==============================] - 0s 21ms/step\n",
            "1/1 [==============================] - 0s 20ms/step\n",
            "1/1 [==============================] - 0s 24ms/step\n",
            "1/1 [==============================] - 0s 23ms/step\n",
            "1/1 [==============================] - 0s 20ms/step\n",
            "1/1 [==============================] - 0s 21ms/step\n",
            "1/1 [==============================] - 0s 23ms/step\n",
            "1/1 [==============================] - 0s 21ms/step\n",
            "1/1 [==============================] - 0s 24ms/step\n",
            "1/1 [==============================] - 0s 22ms/step\n",
            "1/1 [==============================] - 0s 24ms/step\n",
            "1/1 [==============================] - 0s 23ms/step\n",
            "1/1 [==============================] - 0s 23ms/step\n",
            "1/1 [==============================] - 0s 21ms/step\n",
            "1/1 [==============================] - 0s 20ms/step\n",
            "1/1 [==============================] - 0s 22ms/step\n",
            "1/1 [==============================] - 0s 20ms/step\n",
            "1/1 [==============================] - 0s 19ms/step\n",
            "1/1 [==============================] - 0s 20ms/step\n",
            "1/1 [==============================] - 0s 21ms/step\n",
            "1/1 [==============================] - 0s 21ms/step\n",
            "1/1 [==============================] - 0s 22ms/step\n",
            "1/1 [==============================] - 0s 30ms/step\n",
            "1/1 [==============================] - 0s 22ms/step\n",
            "1/1 [==============================] - 0s 21ms/step\n",
            "1/1 [==============================] - 0s 25ms/step\n",
            "1/1 [==============================] - 0s 21ms/step\n",
            "1/1 [==============================] - 0s 22ms/step\n",
            "1/1 [==============================] - 0s 22ms/step\n",
            "1/1 [==============================] - 0s 21ms/step\n",
            "1/1 [==============================] - 0s 25ms/step\n",
            "1/1 [==============================] - 0s 24ms/step\n",
            "1/1 [==============================] - 0s 23ms/step\n",
            "1/1 [==============================] - 0s 23ms/step\n",
            "1/1 [==============================] - 0s 22ms/step\n",
            "1/1 [==============================] - 0s 24ms/step\n",
            "1/1 [==============================] - 0s 26ms/step\n",
            "1/1 [==============================] - 0s 22ms/step\n",
            "1/1 [==============================] - 0s 27ms/step\n",
            "1/1 [==============================] - 0s 27ms/step\n",
            "1/1 [==============================] - 0s 23ms/step\n",
            "1/1 [==============================] - 0s 22ms/step\n",
            "1/1 [==============================] - 0s 22ms/step\n",
            "1/1 [==============================] - 0s 21ms/step\n",
            "1/1 [==============================] - 0s 24ms/step\n",
            "1/1 [==============================] - 0s 29ms/step\n",
            "1/1 [==============================] - 0s 21ms/step\n",
            "1/1 [==============================] - 0s 21ms/step\n",
            "1/1 [==============================] - 0s 21ms/step\n",
            "1/1 [==============================] - 0s 22ms/step\n",
            "1/1 [==============================] - 0s 20ms/step\n",
            "1/1 [==============================] - 0s 21ms/step\n",
            "1/1 [==============================] - 0s 22ms/step\n",
            "1/1 [==============================] - 0s 22ms/step\n",
            "1/1 [==============================] - 0s 22ms/step\n",
            "1/1 [==============================] - 0s 23ms/step\n",
            "1/1 [==============================] - 0s 24ms/step\n",
            "1/1 [==============================] - 0s 22ms/step\n",
            "1/1 [==============================] - 0s 22ms/step\n",
            "1/1 [==============================] - 0s 26ms/step\n",
            "1/1 [==============================] - 0s 25ms/step\n"
          ]
        }
      ]
    },
    {
      "cell_type": "code",
      "source": [
        "# Visualizing the sequence\n",
        "plot_predictions(test_set,sequence)"
      ],
      "metadata": {
        "_uuid": "be390cade0cf4b31cb99e069570e1be2c5594c8b",
        "trusted": true,
        "colab": {
          "base_uri": "https://localhost:8080/",
          "height": 325
        },
        "id": "PY1S03fhuJBD",
        "outputId": "3b7180e5-53d5-42ee-d804-2e9e35af36ae"
      },
      "execution_count": 21,
      "outputs": [
        {
          "output_type": "display_data",
          "data": {
            "text/plain": [
              "<Figure size 432x288 with 1 Axes>"
            ],
            "image/png": "[encoded data removed]"
          },
          "metadata": {}
        }
      ]
    },
    {
      "cell_type": "code",
      "source": [
        "# Evaluating the sequence\n",
        "return_rmse(test_set,sequence)"
      ],
      "metadata": {
        "_uuid": "59095a00a05a68b97d76fc13bb2d618c337e1c80",
        "trusted": true,
        "colab": {
          "base_uri": "https://localhost:8080/"
        },
        "id": "Qo6ixilUuJBD",
        "outputId": "dfb3b7c2-0e2f-4ce9-ab16-5c0a4e59aef5"
      },
      "execution_count": 22,
      "outputs": [
        {
          "output_type": "stream",
          "name": "stdout",
          "text": [
            "The root mean squared error is 16.78915176696249.\n"
          ]
        }
      ]
    }
  ]
}